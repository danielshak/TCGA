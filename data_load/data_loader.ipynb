{
 "cells": [
  {
   "cell_type": "markdown",
   "metadata": {},
   "source": [
    "<img src=\"../TCGA-barcode.jpg\">"
   ]
  },
  {
   "cell_type": "markdown",
   "metadata": {},
   "source": [
    "<img src=\"../sample_type.png\">"
   ]
  },
  {
   "cell_type": "markdown",
   "metadata": {},
   "source": [
    "## Pandas viewing options\n",
    "http://songhuiming.github.io/pages/2017/04/02/jupyter-and-pandas-display/"
   ]
  },
  {
   "cell_type": "markdown",
   "metadata": {},
   "source": [
    "Extract the \"Extracted.tar.gz\" file then change the directory to where the files are located. Code should then run."
   ]
  },
  {
   "cell_type": "code",
   "execution_count": 1,
   "metadata": {},
   "outputs": [],
   "source": [
    "import numpy as np\n",
    "import scipy.io\n",
    "import pandas as pd\n",
    "import os\n",
    "import pickle\n",
    "from sklearn.model_selection import train_test_split"
   ]
  },
  {
   "cell_type": "code",
   "execution_count": 2,
   "metadata": {},
   "outputs": [],
   "source": [
    "files = os.listdir('../firehose_data/Extracted')\n",
    "#Sort alphabetcially\n",
    "files = sorted(files)\n",
    "\n",
    "cancer_names = []\n",
    "for file in files:\n",
    "    cancer_names.append(file.split('.')[0])\n",
    "cancer_names = list(np.unique(cancer_names))"
   ]
  },
  {
   "cell_type": "code",
   "execution_count": 3,
   "metadata": {},
   "outputs": [],
   "source": [
    "cancer_dataframes = []\n",
    "rows = []\n",
    "num_samples = []\n",
    "last_cancer_type = 0\n",
    "\n",
    "for file in files:\n",
    "    sample = (pd.read_csv('../firehose_data/Extracted/' + file, sep='\\t', index_col=0, skiprows=[1]))\n",
    "    cancer_dataframes.append(sample)\n",
    "    rows.append(sample.index) #stores the row names\n",
    "    if file.split('.')[0]==last_cancer_type:\n",
    "        num_samples[-1] = num_samples[-1] + sample.shape[1]\n",
    "    else:\n",
    "        num_samples.append(sample.shape[1])\n",
    "    last_cancer_type = file.split('.')[0]\n",
    "\n",
    "#Sanity check for data uniformness\n",
    "rows=np.array(rows)\n",
    "if np.sum(np.sum(rows == rows[0,:],axis=1))==20531*33:\n",
    "    print(\"All rows are the same gene\")\n",
    "    \n",
    "#Create single data frame for everything\n",
    "full_data = pd.concat(cancer_dataframes,axis=1)"
   ]
  },
  {
   "cell_type": "code",
   "execution_count": 4,
   "metadata": {},
   "outputs": [],
   "source": [
    "tumor_samples = []\n",
    "sample_ids = []\n",
    "columns2drop = []\n",
    "index = 0\n",
    "for number in num_samples:\n",
    "    num = 0\n",
    "    for _ in range(number):\n",
    "        if full_data.columns.values[index][13:15] in ['01','02','03','04','05','06','07','08','09']:\n",
    "            sample_ids.append(full_data.columns.values[index])\n",
    "            num = num + 1\n",
    "        else:\n",
    "            columns2drop.append(full_data.columns.values[index])\n",
    "        index = index + 1\n",
    "    tumor_samples.append(num)"
   ]
  },
  {
   "cell_type": "code",
   "execution_count": 5,
   "metadata": {},
   "outputs": [
    {
     "data": {
      "text/plain": [
       "(20531, 10354)"
      ]
     },
     "execution_count": 5,
     "metadata": {},
     "output_type": "execute_result"
    }
   ],
   "source": [
    "tumor_data = full_data.drop(columns2drop,axis=1)\n",
    "tumor_data.shape"
   ]
  },
  {
   "cell_type": "code",
   "execution_count": 6,
   "metadata": {},
   "outputs": [
    {
     "data": {
      "text/plain": [
       "array([['ACC', '79'],\n",
       "       ['BLCA', '408'],\n",
       "       ['BRCA', '1100'],\n",
       "       ['CESC', '306'],\n",
       "       ['CHOL', '36'],\n",
       "       ['COAD', '478'],\n",
       "       ['DLBC', '48'],\n",
       "       ['ESCA', '185'],\n",
       "       ['GBM', '166'],\n",
       "       ['HNSC', '522'],\n",
       "       ['KICH', '66'],\n",
       "       ['KIRC', '534'],\n",
       "       ['KIRP', '291'],\n",
       "       ['LAML', '173'],\n",
       "       ['LGG', '530'],\n",
       "       ['LIHC', '373'],\n",
       "       ['LUAD', '517'],\n",
       "       ['LUSC', '501'],\n",
       "       ['MESO', '87'],\n",
       "       ['OV', '307'],\n",
       "       ['PAAD', '179'],\n",
       "       ['PCPG', '184'],\n",
       "       ['PRAD', '498'],\n",
       "       ['READ', '167'],\n",
       "       ['SARC', '263'],\n",
       "       ['SKCM', '472'],\n",
       "       ['STAD', '415'],\n",
       "       ['TGCT', '156'],\n",
       "       ['THCA', '509'],\n",
       "       ['THYM', '120'],\n",
       "       ['UCEC', '547'],\n",
       "       ['UCS', '57'],\n",
       "       ['UVM', '80']], dtype='<U21')"
      ]
     },
     "execution_count": 6,
     "metadata": {},
     "output_type": "execute_result"
    }
   ],
   "source": [
    "np.vstack([cancer_names,tumor_samples]).T"
   ]
  },
  {
   "cell_type": "code",
   "execution_count": 7,
   "metadata": {},
   "outputs": [],
   "source": [
    "#Create one hot encoded data labels\n",
    "labels = []\n",
    "for i in range(33):\n",
    "    labels.append(np.ones(tumor_samples[i])*i)\n",
    "labels = np.hstack(labels).astype(int)\n",
    "tumor_labels = (np.eye(labels.max()+1)[labels].astype(int)).T\n",
    "tumor_labels.shape\n",
    "tumor_labels_df = pd.DataFrame(tumor_labels, columns = sample_ids)"
   ]
  },
  {
   "cell_type": "code",
   "execution_count": 8,
   "metadata": {},
   "outputs": [
    {
     "data": {
      "text/plain": [
       "(20564, 10354)"
      ]
     },
     "execution_count": 8,
     "metadata": {},
     "output_type": "execute_result"
    }
   ],
   "source": [
    "data_and_labels = pd.concat([tumor_data, tumor_labels_df])\n",
    "data_and_labels.shape"
   ]
  },
  {
   "cell_type": "code",
   "execution_count": 9,
   "metadata": {},
   "outputs": [],
   "source": [
    "#Partition to train and test\n",
    "train_df = []\n",
    "test_df = []\n",
    "index = 0\n",
    "for i in range(33):\n",
    "    if i == 0:\n",
    "        train, test = train_test_split(data_and_labels.iloc[:,0:tumor_samples[i]].T, test_size=0.2)\n",
    "    else:\n",
    "        train, test = train_test_split(data_and_labels.iloc[:,index:index+tumor_samples[i]].T, test_size=0.2)\n",
    "#     print(index)\n",
    "#     print(index+tumor_samples[i])\n",
    "#     print(train.shape)\n",
    "#     print(test.shape)\n",
    "    index = index + tumor_samples[i]\n",
    "    train_df.append(train)\n",
    "    test_df.append(test)"
   ]
  },
  {
   "cell_type": "code",
   "execution_count": 10,
   "metadata": {},
   "outputs": [],
   "source": [
    "train_df = pd.concat(train_df).T\n",
    "train_data = train_df.iloc[0:-33,:]\n",
    "train_labels = train_df.iloc[-33::,:]\n",
    "\n",
    "test_df = pd.concat(test_df).T\n",
    "test_data = test_df.iloc[0:-33,:]\n",
    "test_labels = test_df.iloc[-33::,:]\n",
    "# print(train_df.shape)\n",
    "# print(train_data.shape)\n",
    "# print(train_labels.shape)\n",
    "# print(test_df.shape)"
   ]
  },
  {
   "cell_type": "code",
   "execution_count": 11,
   "metadata": {},
   "outputs": [],
   "source": [
    "#Save\n",
    "tumor_data.to_pickle('../DATA/tumor_data.pkl')\n",
    "tumor_labels_df.to_pickle('../DATA/tumor_labels_df.pkl')\n",
    "\n",
    "train_data.to_pickle('../DATA/train_data.pkl')\n",
    "train_labels.to_pickle('../DATA/train_labels.pkl')\n",
    "\n",
    "test_data.to_pickle('../DATA/test_data.pkl')\n",
    "test_labels.to_pickle('../DATA/test_labels.pkl')\n",
    "\n",
    "#np.save('../firehose_data/tumor_labels.npy', tumor_labels)"
   ]
  },
  {
   "cell_type": "code",
   "execution_count": 12,
   "metadata": {},
   "outputs": [],
   "source": [
    "#Convert and save to .mat\n",
    "scipy.io.savemat('../DATA/tumor_data.mat', mdict={'tumor_data': tumor_data.values})\n",
    "scipy.io.savemat('../DATA/tumor_labels.mat', mdict={'tumor_labels': tumor_labels_df.values})\n",
    "\n",
    "scipy.io.savemat('../DATA/train_data.mat', mdict={'train_data': train_data.values})\n",
    "scipy.io.savemat('../DATA/train_labels.mat', mdict={'train_labels': train_labels.values})\n",
    "\n",
    "scipy.io.savemat('../DATA/test_data.mat', mdict={'test_data': test_data.values})\n",
    "scipy.io.savemat('../DATA/test_labels.mat', mdict={'test_labels': test_labels.values})"
   ]
  },
  {
   "cell_type": "code",
   "execution_count": 17,
   "metadata": {},
   "outputs": [],
   "source": [
    "#Load\n",
    "tumor_data = pd.read_pickle('../firehose_data/tumor_data.pkl')\n",
    "row_names = tumor_data.index\n",
    "column_names = tumor_data.columns.values\n",
    "values = tumor_data.values"
   ]
  },
  {
   "cell_type": "code",
   "execution_count": 13,
   "metadata": {},
   "outputs": [],
   "source": [
    "#Normalizing values\n",
    "values = np.log(values + 1)"
   ]
  }
 ],
 "metadata": {
  "kernelspec": {
   "display_name": "Python 3",
   "language": "python",
   "name": "python3"
  },
  "language_info": {
   "codemirror_mode": {
    "name": "ipython",
    "version": 3
   },
   "file_extension": ".py",
   "mimetype": "text/x-python",
   "name": "python",
   "nbconvert_exporter": "python",
   "pygments_lexer": "ipython3",
   "version": "3.7.1"
  }
 },
 "nbformat": 4,
 "nbformat_minor": 2
}
