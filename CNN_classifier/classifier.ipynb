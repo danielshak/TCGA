{
 "cells": [
  {
   "cell_type": "code",
   "execution_count": 17,
   "metadata": {},
   "outputs": [],
   "source": [
    "import torch\n",
    "import torch.nn as nn\n",
    "import torch.nn.functional as F\n",
    "from torch.utils.data import Dataset, DataLoader\n",
    "from torchvision import transforms, utils\n",
    "import time\n",
    "import pandas as pd\n",
    "import numpy as np\n",
    "from tqdm import tqdm\n",
    "import matplotlib.pyplot as plt"
   ]
  },
  {
   "cell_type": "code",
   "execution_count": 4,
   "metadata": {},
   "outputs": [
    {
     "name": "stdout",
     "output_type": "stream",
     "text": [
      "cuda:0\n"
     ]
    }
   ],
   "source": [
    "device = torch.device(\"cuda:0\" if torch.cuda.is_available() else \"cpu\")\n",
    "print(device)"
   ]
  },
  {
   "cell_type": "markdown",
   "metadata": {},
   "source": [
    "-Data is read in as row vectors, labels are one hot encoded row vectors as well<br>\n",
    "-Data in CSV files are already z-scored, zero mean and std 1\n",
    "\n",
    "-Update\n",
    "Method of reading lines from csv is very slow, trying now to use memmaps for faster reads\n"
   ]
  },
  {
   "cell_type": "code",
   "execution_count": 5,
   "metadata": {},
   "outputs": [],
   "source": [
    "#train_path = 'train.csv'\n",
    "#train_labels_path = '../DATA/train_labels.pkl'\n",
    "\n",
    "#test_path = 'test.csv'\n",
    "#test_labels_path = '../DATA/test_labels.pkl'\n",
    "\n",
    "#train data size (10404, 8269).T -> (8269,10404)\n",
    "#test data size (10404, 2085).T -> (2085,10404)\n",
    "\n",
    "class TumorDataset(Dataset):\n",
    "    #reads in labels from dataframe and samples from csv 1 row at a time\n",
    "    \n",
    "    def __init__(self, labels_path, data_path, data_dims, genes_path, transform=None):\n",
    "        labels_df = pd.read_pickle(labels_path)        \n",
    "        self.labels = np.array(labels_df).astype(int).T\n",
    "        self.data_memmap = np.memmap(data_path, dtype='float64', mode='r', shape=data_dims)\n",
    "        self.genes = pd.read_csv(genes_path, nrows=1, index_col=0).columns.values\n",
    "        self.transform = transform\n",
    "    \n",
    "    def __len__(self):\n",
    "        return (self.labels).shape[0]\n",
    "    \n",
    "    def __getitem__(self, idx):\n",
    "        #Single row read from the csv\n",
    "        sample = self.data_memmap[idx,:]\n",
    "        #sample = pd.read_csv(self.train_path, nrows=1, index_col=0, skiprows=range(0,idx)).values\n",
    "        label = self.labels[idx,:]\n",
    "        train_sample = {'data': sample, 'label': label}\n",
    "        \n",
    "        if self.transform:\n",
    "            train_sample = self.transform(train_sample)\n",
    "                        \n",
    "        return train_sample\n",
    "\n",
    "#Example Usage\n",
    "#train = TumorDataset('train.csv', '../DATA/train_labels.pkl', transform = ToImage())\n",
    "# train = TumorDataset('train.csv', '../DATA/train_labels.pkl', transform = transforms.Compose([ToImage(),ToTensor()]))\n",
    "# len(train)\n",
    "# sample = train[0]\n",
    "# sample['data'](8269,10404)\n",
    "# sample['label']\n",
    "\n",
    "# test = TumorDataset('test.csv', '../DATA/test_labels.pkl')\n",
    "# len(test)\n",
    "# test_sample = test[0]\n",
    "# test_sample['data']\n",
    "# test_sample['label']    "
   ]
  },
  {
   "cell_type": "markdown",
   "metadata": {},
   "source": [
    "We will write them as callable classes instead of simple functions so that parameters of the transform need not be passed everytime it’s called. For this, we just need to implement __call__ method and if required, __init__ method. We can then use a transform like this:\n",
    "\n",
    "tsfm = Transform(params)\n",
    "<br>\n",
    "transformed_sample = tsfm(sample)"
   ]
  },
  {
   "cell_type": "code",
   "execution_count": 6,
   "metadata": {},
   "outputs": [],
   "source": [
    "class ToImage(object):\n",
    "    \n",
    "    \"\"\"\n",
    "    Maybe reordering here by gene position\n",
    "    \n",
    "    Follows the same image scaling as people in the paper.\n",
    "    features_padded = features_train[i, :]/max(features_train[i, :])\n",
    "    img = features_padded.reshape(102, 102)\n",
    "    (img - 0.5)/0.5\n",
    "    \n",
    "    -Update\n",
    "    -I switched this to having data already normalized (x-x.mean)/x.std\n",
    "    -Only need reshape here\n",
    "    \"\"\"\n",
    "    \n",
    "    def __init__(self,annotation_file=None):\n",
    "        self.file = annotation_file\n",
    "    \n",
    "    def __call__(self,sample):\n",
    "        image, label = sample['data'], sample['label']\n",
    "        image = np.reshape(image, (102,102))\n",
    "        \n",
    "        #add sorting later with annotation_file\n",
    "        \n",
    "        return {'data': image, 'label': label}\n",
    "\n",
    "class ToTensor(object):\n",
    "    \"\"\"Convert ndarrays in sample to Tensors.\"\"\"\n",
    "    \n",
    "    def __call__(self, sample):\n",
    "        image, label = sample['data'], sample['label']\n",
    "        return {'data': torch.tensor(image), 'label': torch.tensor(label)}"
   ]
  },
  {
   "cell_type": "markdown",
   "metadata": {},
   "source": [
    "## Weight initialization\n",
    "\n",
    "For the dense layer which in pytorch is called linear for example, weights are initialized uniformly.\n",
    "\n",
    "stdv = 1. / math.sqrt(self.weight.size(1))\n",
    "<br>\n",
    "self.weight.data.uniform_(-stdv, stdv)\n",
    "\n",
    "https://github.com/pytorch/pytorch/tree/master/torch/nn/modules"
   ]
  },
  {
   "cell_type": "code",
   "execution_count": 7,
   "metadata": {},
   "outputs": [
    {
     "data": {
      "text/plain": [
       "Net(\n",
       "  (conv1): Conv2d(1, 64, kernel_size=(5, 5), stride=(1, 1), padding=(1, 1))\n",
       "  (bn1): BatchNorm2d(64, eps=1e-05, momentum=0.1, affine=True, track_running_stats=True)\n",
       "  (conv2): Conv2d(64, 128, kernel_size=(5, 5), stride=(1, 1), padding=(1, 1))\n",
       "  (bn2): BatchNorm2d(128, eps=1e-05, momentum=0.1, affine=True, track_running_stats=True)\n",
       "  (conv3): Conv2d(128, 256, kernel_size=(3, 3), stride=(1, 1), padding=(1, 1))\n",
       "  (bn3): BatchNorm2d(256, eps=1e-05, momentum=0.1, affine=True, track_running_stats=True)\n",
       "  (drop2D): Dropout2d(p=0.25)\n",
       "  (vp): MaxPool2d(kernel_size=2, stride=2, padding=0, dilation=1, ceil_mode=False)\n",
       "  (fc1): Linear(in_features=36864, out_features=1024, bias=True)\n",
       "  (fc2): Linear(in_features=1024, out_features=512, bias=True)\n",
       "  (fc3): Linear(in_features=512, out_features=33, bias=True)\n",
       ")"
      ]
     },
     "execution_count": 7,
     "metadata": {},
     "output_type": "execute_result"
    }
   ],
   "source": [
    "class Net(nn.Module):\n",
    "\n",
    "    def __init__(self, num_of_classes):\n",
    "        super(Net, self).__init__()\n",
    "        # input image channel, output channels, kernel size square convolution\n",
    "        # kernel\n",
    "        # input size = 102, output size = 100\n",
    "        self.conv1 = nn.Conv2d(1, 64, kernel_size=5, padding=1)\n",
    "        self.bn1 = nn.BatchNorm2d(64)\n",
    "        # input size = 50, output size = 48\n",
    "        self.conv2 = nn.Conv2d(64, 128, kernel_size=5, padding=1)\n",
    "        self.bn2 = nn.BatchNorm2d(128)\n",
    "        # input size = 24, output size = 24\n",
    "        self.conv3 = nn.Conv2d(128, 256, kernel_size=3, padding=1)\n",
    "        self.bn3 = nn.BatchNorm2d(256)\n",
    "        self.drop2D = nn.Dropout2d(p=0.25, inplace=False)\n",
    "        self.vp = nn.MaxPool2d(kernel_size=2, padding=0, stride=2)\n",
    "        # an affine operation: y = Wx + b\n",
    "        self.fc1 = nn.Linear(256*12*12, 1024)\n",
    "        self.fc2 = nn.Linear(1024, 512)\n",
    "        self.fc3 = nn.Linear(512, num_of_classes)\n",
    "\n",
    "    def forward(self, x):\n",
    "        in_size = x.size(0)\n",
    "        x = F.relu(self.bn1(self.vp(self.conv1(x))))\n",
    "        x = F.relu(self.bn2(self.vp(self.conv2(x))))\n",
    "        x = F.relu(self.bn3(self.vp(self.conv3(x))))\n",
    "        x = self.drop2D(x)\n",
    "        x = x.view(in_size, -1)\n",
    "        x = self.fc1(x)\n",
    "        x = self.fc2(x)\n",
    "        x = self.fc3(x)\n",
    "        return x\n",
    "    \n",
    "Net(num_of_classes=33)"
   ]
  },
  {
   "cell_type": "code",
   "execution_count": 8,
   "metadata": {},
   "outputs": [],
   "source": [
    "num_epochs = 10\n",
    "batch_size = 75\n",
    "learning_rate = 0.0001"
   ]
  },
  {
   "cell_type": "code",
   "execution_count": 35,
   "metadata": {},
   "outputs": [],
   "source": [
    "#Train set\n",
    "labels_path = '../DATA/train_labels.pkl'\n",
    "data_path = 'train.dat'\n",
    "data_dims = (8269,10404)\n",
    "genes_path = 'train.csv'\n",
    "\n",
    "train = TumorDataset(labels_path,data_path,data_dims,genes_path,transform = transforms.Compose([ToImage(),ToTensor()]))\n",
    "\n",
    "#Test set\n",
    "labels_path = '../DATA/test_labels.pkl'\n",
    "data_path = 'test.dat'\n",
    "data_dims = (2085,10404)\n",
    "genes_path = 'test.csv'\n",
    "\n",
    "test = TumorDataset(labels_path,data_path,data_dims,genes_path,transform = transforms.Compose([ToImage(),ToTensor()]))"
   ]
  },
  {
   "cell_type": "code",
   "execution_count": 46,
   "metadata": {},
   "outputs": [],
   "source": [
    "#Train data loader\n",
    "dataloader_train = DataLoader(train, batch_size=batch_size, shuffle=True, num_workers=4)\n",
    "\n",
    "#Test data loader\n",
    "dataloader_test = DataLoader(test, batch_size=batch_size, shuffle=False, num_workers=4)"
   ]
  },
  {
   "cell_type": "markdown",
   "metadata": {},
   "source": [
    "### New untrained network or loading weights"
   ]
  },
  {
   "cell_type": "code",
   "execution_count": 21,
   "metadata": {},
   "outputs": [],
   "source": [
    "load_pretrained_weights = False\n",
    "\n",
    "net = Net(num_of_classes=33)\n",
    "\n",
    "if load_pretrained_weights:\n",
    "    net.load_state_dict(torch.load('network_weights/epoch10_weights.pt'))"
   ]
  },
  {
   "cell_type": "code",
   "execution_count": 10,
   "metadata": {},
   "outputs": [],
   "source": [
    "net.to(device)\n",
    "net.double()\n",
    "\n",
    "#Training loss function\n",
    "criterion = nn.CrossEntropyLoss()\n",
    "\n",
    "#Training optimizer\n",
    "optimizer = torch.optim.Adam(params=net.parameters(), lr=learning_rate)\n"
   ]
  },
  {
   "cell_type": "markdown",
   "metadata": {},
   "source": [
    "### CNN input wants  (Batch, Number Channels, height, width)\n",
    "\n",
    "### For Conv1d the input dimensions are defined as [batch, channel, length].\n"
   ]
  },
  {
   "cell_type": "code",
   "execution_count": 16,
   "metadata": {},
   "outputs": [
    {
     "name": "stderr",
     "output_type": "stream",
     "text": [
      "\n",
      "\n",
      "  0%|          | 0/10 [00:00<?, ?it/s]\u001b[A\u001b[A"
     ]
    },
    {
     "name": "stdout",
     "output_type": "stream",
     "text": [
      "Epoch 0 Batch 0 loss is: 3.6949144118659274\n",
      "Epoch 0 Batch 1 loss is: 1.9629078373219468\n",
      "Epoch 0 Batch 2 loss is: 2.3782188136741995\n",
      "Epoch 0 Batch 3 loss is: 2.8534441242216233\n",
      "Epoch 0 Batch 4 loss is: 1.821783206364665\n",
      "Epoch 0 Batch 5 loss is: 1.6891893541990357\n",
      "Epoch 0 Batch 6 loss is: 2.5286305137333023\n",
      "Epoch 0 Batch 7 loss is: 2.0576371112676397\n",
      "Epoch 0 Batch 8 loss is: 1.249639449765047\n",
      "Epoch 0 Batch 9 loss is: 1.07702643967877\n",
      "Epoch 0 Batch 10 loss is: 1.053161592690916\n",
      "Epoch 0 Batch 11 loss is: 2.8973148938439874\n",
      "Epoch 0 Batch 12 loss is: 1.9624846622797485\n",
      "Epoch 0 Batch 13 loss is: 0.8719341751555466\n",
      "Epoch 0 Batch 14 loss is: 1.2923626998972233\n",
      "Epoch 0 Batch 15 loss is: 2.083457792217237\n",
      "Epoch 0 Batch 16 loss is: 2.369770540248983\n",
      "Epoch 0 Batch 17 loss is: 1.629602264649636\n",
      "Epoch 0 Batch 18 loss is: 1.103853755555554\n",
      "Epoch 0 Batch 19 loss is: 0.18678761242055286\n",
      "Epoch 0 Batch 20 loss is: 1.5607218904780955\n",
      "Epoch 0 Batch 21 loss is: 1.0720292690335236\n",
      "Epoch 0 Batch 22 loss is: 0.8984735643401426\n",
      "Epoch 0 Batch 23 loss is: 1.6121520315692208\n",
      "Epoch 0 Batch 24 loss is: 0.3100636295698539\n",
      "Epoch 0 Batch 25 loss is: 0.1531105810353763\n",
      "Epoch 0 Batch 26 loss is: 0.982477453366343\n",
      "Epoch 0 Batch 27 loss is: 2.01389254176869\n"
     ]
    },
    {
     "name": "stderr",
     "output_type": "stream",
     "text": [
      "\n",
      "\n",
      " 10%|█         | 1/10 [02:05<18:46, 125.18s/it]\u001b[A\u001b[A"
     ]
    },
    {
     "name": "stdout",
     "output_type": "stream",
     "text": [
      "epoch 0 :loss is tensor(38.6294, device='cuda:0', dtype=torch.float64)\n",
      "Epoch 1 Batch 0 loss is: 1.3590086279259452\n",
      "Epoch 1 Batch 1 loss is: 1.2063180063494645\n",
      "Epoch 1 Batch 2 loss is: 0.766050557628192\n",
      "Epoch 1 Batch 3 loss is: 0.9187122665288701\n",
      "Epoch 1 Batch 4 loss is: 1.11387154681375\n",
      "Epoch 1 Batch 5 loss is: 1.2307164932945802\n",
      "Epoch 1 Batch 6 loss is: 1.1220776275983022\n",
      "Epoch 1 Batch 7 loss is: 0.8079309086016399\n",
      "Epoch 1 Batch 8 loss is: 0.6226504860032505\n",
      "Epoch 1 Batch 9 loss is: 0.5409050335642056\n",
      "Epoch 1 Batch 10 loss is: 0.6295572673797584\n",
      "Epoch 1 Batch 11 loss is: 1.1046575805199284\n",
      "Epoch 1 Batch 12 loss is: 0.6573027330457143\n",
      "Epoch 1 Batch 13 loss is: 0.5694736211161134\n",
      "Epoch 1 Batch 14 loss is: 0.41198217039944834\n",
      "Epoch 1 Batch 15 loss is: 0.8527089079506127\n",
      "Epoch 1 Batch 16 loss is: 1.2199915788383358\n",
      "Epoch 1 Batch 17 loss is: 0.42311971789945385\n",
      "Epoch 1 Batch 18 loss is: 0.7195074725143248\n",
      "Epoch 1 Batch 19 loss is: 0.03597649590540541\n",
      "Epoch 1 Batch 20 loss is: 1.0518224601912833\n",
      "Epoch 1 Batch 21 loss is: 0.36715610553442996\n",
      "Epoch 1 Batch 22 loss is: 0.3764233908940283\n",
      "Epoch 1 Batch 23 loss is: 0.8062300340742153\n",
      "Epoch 1 Batch 24 loss is: 0.08935175432652481\n",
      "Epoch 1 Batch 25 loss is: 0.06136104423656843\n",
      "Epoch 1 Batch 26 loss is: 0.47555786213904905\n",
      "Epoch 1 Batch 27 loss is: 1.1503408531879853\n"
     ]
    },
    {
     "name": "stderr",
     "output_type": "stream",
     "text": [
      "\n",
      "\n",
      " 20%|██        | 2/10 [04:08<16:35, 124.50s/it]\u001b[A\u001b[A"
     ]
    },
    {
     "name": "stdout",
     "output_type": "stream",
     "text": [
      "epoch 1 :loss is tensor(14.3729, device='cuda:0', dtype=torch.float64)\n",
      "Epoch 2 Batch 0 loss is: 0.7742888270235138\n",
      "Epoch 2 Batch 1 loss is: 0.5868142551329641\n",
      "Epoch 2 Batch 2 loss is: 0.20279319033202228\n",
      "Epoch 2 Batch 3 loss is: 0.3678228868570122\n",
      "Epoch 2 Batch 4 loss is: 0.7324831013434216\n",
      "Epoch 2 Batch 5 loss is: 0.5144397567643121\n",
      "Epoch 2 Batch 6 loss is: 0.5530905509229287\n",
      "Epoch 2 Batch 7 loss is: 0.5760970626985948\n",
      "Epoch 2 Batch 8 loss is: 0.629137887011966\n",
      "Epoch 2 Batch 9 loss is: 0.32429799176631274\n",
      "Epoch 2 Batch 10 loss is: 0.4696514897854845\n",
      "Epoch 2 Batch 11 loss is: 0.4035540475089503\n",
      "Epoch 2 Batch 12 loss is: 0.4209740233206097\n",
      "Epoch 2 Batch 13 loss is: 0.48010050969876045\n",
      "Epoch 2 Batch 14 loss is: 0.2575353341980561\n",
      "Epoch 2 Batch 15 loss is: 0.4298565984576254\n",
      "Epoch 2 Batch 16 loss is: 0.5480161063483403\n",
      "Epoch 2 Batch 17 loss is: 0.20743956969020108\n",
      "Epoch 2 Batch 18 loss is: 0.5058400880009131\n",
      "Epoch 2 Batch 19 loss is: 0.008821438857356275\n",
      "Epoch 2 Batch 20 loss is: 0.9043560822913276\n",
      "Epoch 2 Batch 21 loss is: 0.18483185607932304\n",
      "Epoch 2 Batch 22 loss is: 0.35637758851925033\n",
      "Epoch 2 Batch 23 loss is: 0.5894931413958202\n",
      "Epoch 2 Batch 24 loss is: 0.14024419043449207\n",
      "Epoch 2 Batch 25 loss is: 0.038159120592774404\n",
      "Epoch 2 Batch 26 loss is: 0.1950433703681555\n",
      "Epoch 2 Batch 27 loss is: 0.7450474687187426\n"
     ]
    },
    {
     "name": "stderr",
     "output_type": "stream",
     "text": [
      "\n",
      "\n",
      " 30%|███       | 3/10 [06:17<14:41, 126.00s/it]\u001b[A\u001b[A"
     ]
    },
    {
     "name": "stdout",
     "output_type": "stream",
     "text": [
      "epoch 2 :loss is tensor(8.4917, device='cuda:0', dtype=torch.float64)\n",
      "Epoch 3 Batch 0 loss is: 0.6104205104466601\n",
      "Epoch 3 Batch 1 loss is: 0.31685525364875133\n",
      "Epoch 3 Batch 2 loss is: 0.06707077026017973\n",
      "Epoch 3 Batch 3 loss is: 0.13836841637775868\n",
      "Epoch 3 Batch 4 loss is: 0.40240156390195825\n",
      "Epoch 3 Batch 5 loss is: 0.4130891974393825\n",
      "Epoch 3 Batch 6 loss is: 0.6620336319365752\n",
      "Epoch 3 Batch 7 loss is: 0.4227974687072849\n",
      "Epoch 3 Batch 8 loss is: 0.35272702525987093\n",
      "Epoch 3 Batch 9 loss is: 0.24396789737384844\n",
      "Epoch 3 Batch 10 loss is: 0.431681870364684\n",
      "Epoch 3 Batch 11 loss is: 0.2914343752242771\n",
      "Epoch 3 Batch 12 loss is: 0.29063896882691814\n",
      "Epoch 3 Batch 13 loss is: 0.15433650307324878\n",
      "Epoch 3 Batch 14 loss is: 0.3241880751360394\n",
      "Epoch 3 Batch 15 loss is: 0.3195823367540155\n",
      "Epoch 3 Batch 16 loss is: 0.18350690930704655\n",
      "Epoch 3 Batch 17 loss is: 0.14429602389777135\n",
      "Epoch 3 Batch 18 loss is: 0.4225899646006565\n",
      "Epoch 3 Batch 19 loss is: 0.006133865525332069\n",
      "Epoch 3 Batch 20 loss is: 1.3157293772456293\n",
      "Epoch 3 Batch 21 loss is: 0.1407800189552592\n",
      "Epoch 3 Batch 22 loss is: 0.25173542810609956\n",
      "Epoch 3 Batch 23 loss is: 0.2191727899674681\n",
      "Epoch 3 Batch 24 loss is: 0.06652588050672648\n",
      "Epoch 3 Batch 25 loss is: 0.039238018212623564\n",
      "Epoch 3 Batch 26 loss is: 0.09899279105854773\n",
      "Epoch 3 Batch 27 loss is: 0.635015547797183\n"
     ]
    },
    {
     "name": "stderr",
     "output_type": "stream",
     "text": [
      "\n",
      "\n",
      " 40%|████      | 4/10 [08:22<12:33, 125.65s/it]\u001b[A\u001b[A"
     ]
    },
    {
     "name": "stdout",
     "output_type": "stream",
     "text": [
      "epoch 3 :loss is tensor(6.6970, device='cuda:0', dtype=torch.float64)\n",
      "Epoch 4 Batch 0 loss is: 0.5974665519852419\n",
      "Epoch 4 Batch 1 loss is: 0.22057934428611012\n",
      "Epoch 4 Batch 2 loss is: 0.04438577896740692\n",
      "Epoch 4 Batch 3 loss is: 0.18145989034495502\n",
      "Epoch 4 Batch 4 loss is: 0.6397346434336967\n",
      "Epoch 4 Batch 5 loss is: 0.6440779762141792\n",
      "Epoch 4 Batch 6 loss is: 0.4310798948572733\n",
      "Epoch 4 Batch 7 loss is: 0.20888291846524515\n",
      "Epoch 4 Batch 8 loss is: 0.27076570273203887\n",
      "Epoch 4 Batch 9 loss is: 0.323071866337163\n",
      "Epoch 4 Batch 10 loss is: 0.2510889278796132\n",
      "Epoch 4 Batch 11 loss is: 0.16770531071782685\n",
      "Epoch 4 Batch 12 loss is: 0.18490224552937887\n",
      "Epoch 4 Batch 13 loss is: 0.4155205478710574\n",
      "Epoch 4 Batch 14 loss is: 0.18653142749386323\n",
      "Epoch 4 Batch 15 loss is: 0.33426801231015885\n",
      "Epoch 4 Batch 16 loss is: 0.18441649602238\n",
      "Epoch 4 Batch 17 loss is: 0.11717601887330947\n",
      "Epoch 4 Batch 18 loss is: 0.23459324055378067\n",
      "Epoch 4 Batch 19 loss is: 0.006614249309788971\n",
      "Epoch 4 Batch 20 loss is: 1.2998050097733853\n",
      "Epoch 4 Batch 21 loss is: 0.08349084796529027\n",
      "Epoch 4 Batch 22 loss is: 0.15390379602731752\n",
      "Epoch 4 Batch 23 loss is: 0.15598272276065844\n",
      "Epoch 4 Batch 24 loss is: 0.07668446850856334\n",
      "Epoch 4 Batch 25 loss is: 0.04009774615124246\n",
      "Epoch 4 Batch 26 loss is: 0.16695454282349406\n",
      "Epoch 4 Batch 27 loss is: 0.4763203810633609\n"
     ]
    },
    {
     "name": "stderr",
     "output_type": "stream",
     "text": [
      "\n",
      "\n",
      " 50%|█████     | 5/10 [10:32<10:34, 126.89s/it]\u001b[A\u001b[A"
     ]
    },
    {
     "name": "stdout",
     "output_type": "stream",
     "text": [
      "epoch 4 :loss is tensor(4.7653, device='cuda:0', dtype=torch.float64)\n",
      "Epoch 5 Batch 0 loss is: 0.4366528024719611\n",
      "Epoch 5 Batch 1 loss is: 0.17716775509483423\n",
      "Epoch 5 Batch 2 loss is: 0.025910557133814068\n",
      "Epoch 5 Batch 3 loss is: 0.15976148806753293\n",
      "Epoch 5 Batch 4 loss is: 0.2673320110537931\n",
      "Epoch 5 Batch 5 loss is: 1.2556505203856758\n",
      "Epoch 5 Batch 6 loss is: 0.8944559572150468\n",
      "Epoch 5 Batch 7 loss is: 0.39402210764157247\n",
      "Epoch 5 Batch 8 loss is: 0.429919916224863\n",
      "Epoch 5 Batch 9 loss is: 0.28832364137560546\n",
      "Epoch 5 Batch 10 loss is: 0.281641899985455\n",
      "Epoch 5 Batch 11 loss is: 0.1446780984956693\n",
      "Epoch 5 Batch 12 loss is: 0.09354699557870186\n",
      "Epoch 5 Batch 13 loss is: 0.146213515353786\n",
      "Epoch 5 Batch 14 loss is: 0.15475401602762182\n",
      "Epoch 5 Batch 15 loss is: 0.321827421141414\n",
      "Epoch 5 Batch 16 loss is: 0.47995941348145976\n",
      "Epoch 5 Batch 17 loss is: 0.06487596202588738\n",
      "Epoch 5 Batch 18 loss is: 0.25824527342529857\n",
      "Epoch 5 Batch 19 loss is: 0.007366934184613949\n",
      "Epoch 5 Batch 20 loss is: 0.12754123798277406\n",
      "Epoch 5 Batch 21 loss is: 0.0894945830858337\n",
      "Epoch 5 Batch 22 loss is: 0.21351096265537892\n",
      "Epoch 5 Batch 23 loss is: 0.132587462389564\n",
      "Epoch 5 Batch 24 loss is: 0.052304317250419494\n",
      "Epoch 5 Batch 25 loss is: 0.03155334464359224\n",
      "Epoch 5 Batch 26 loss is: 0.0479290040976515\n",
      "Epoch 5 Batch 27 loss is: 0.4483449041132862\n"
     ]
    },
    {
     "name": "stderr",
     "output_type": "stream",
     "text": [
      "\n",
      "\n",
      " 60%|██████    | 6/10 [12:42<08:31, 127.90s/it]\u001b[A\u001b[A"
     ]
    },
    {
     "name": "stdout",
     "output_type": "stream",
     "text": [
      "epoch 5 :loss is tensor(3.8850, device='cuda:0', dtype=torch.float64)\n",
      "Epoch 6 Batch 0 loss is: 0.4260438417120355\n",
      "Epoch 6 Batch 1 loss is: 0.13227356479014377\n",
      "Epoch 6 Batch 2 loss is: 0.02901108364286132\n",
      "Epoch 6 Batch 3 loss is: 0.16076634244157625\n",
      "Epoch 6 Batch 4 loss is: 0.43425347184472346\n",
      "Epoch 6 Batch 5 loss is: 0.437764938180594\n",
      "Epoch 6 Batch 6 loss is: 0.5811987819728411\n",
      "Epoch 6 Batch 7 loss is: 0.3627802463094132\n",
      "Epoch 6 Batch 8 loss is: 0.2562565823279406\n",
      "Epoch 6 Batch 9 loss is: 0.42898820631219736\n",
      "Epoch 6 Batch 10 loss is: 0.26031035335548036\n",
      "Epoch 6 Batch 11 loss is: 0.10311704814168496\n",
      "Epoch 6 Batch 12 loss is: 0.05498491427860927\n",
      "Epoch 6 Batch 13 loss is: 0.08584743699462831\n",
      "Epoch 6 Batch 14 loss is: 0.5872006413095314\n",
      "Epoch 6 Batch 15 loss is: 0.39112905523888314\n",
      "Epoch 6 Batch 16 loss is: 0.10654841695103909\n",
      "Epoch 6 Batch 17 loss is: 0.0638436697482177\n",
      "Epoch 6 Batch 18 loss is: 0.22928260220540153\n",
      "Epoch 6 Batch 19 loss is: 0.004219751115137704\n",
      "Epoch 6 Batch 20 loss is: 1.0019875812564187\n",
      "Epoch 6 Batch 21 loss is: 0.07210070351549573\n",
      "Epoch 6 Batch 22 loss is: 0.1449003081201087\n",
      "Epoch 6 Batch 23 loss is: 0.046160399655028155\n",
      "Epoch 6 Batch 24 loss is: 0.05088990469368044\n",
      "Epoch 6 Batch 25 loss is: 0.022291840828221474\n",
      "Epoch 6 Batch 26 loss is: 0.10066414560055903\n",
      "Epoch 6 Batch 27 loss is: 0.3527723839803141\n"
     ]
    },
    {
     "name": "stderr",
     "output_type": "stream",
     "text": [
      "\n",
      "\n",
      " 70%|███████   | 7/10 [14:52<06:25, 128.51s/it]\u001b[A\u001b[A"
     ]
    },
    {
     "name": "stdout",
     "output_type": "stream",
     "text": [
      "epoch 6 :loss is tensor(3.3533, device='cuda:0', dtype=torch.float64)\n",
      "Epoch 7 Batch 0 loss is: 0.38263957651233993\n",
      "Epoch 7 Batch 1 loss is: 0.09143579303489789\n",
      "Epoch 7 Batch 2 loss is: 0.023392704660470127\n",
      "Epoch 7 Batch 3 loss is: 0.19063935245955785\n",
      "Epoch 7 Batch 4 loss is: 0.2963047110882004\n",
      "Epoch 7 Batch 5 loss is: 0.2510494174083276\n",
      "Epoch 7 Batch 6 loss is: 0.24985319935112926\n",
      "Epoch 7 Batch 7 loss is: 0.23398869362529523\n",
      "Epoch 7 Batch 8 loss is: 0.14061721510204037\n",
      "Epoch 7 Batch 9 loss is: 0.5528056532944615\n",
      "Epoch 7 Batch 10 loss is: 0.302040458687599\n",
      "Epoch 7 Batch 11 loss is: 0.09866021404476356\n",
      "Epoch 7 Batch 12 loss is: 0.12763290346141376\n",
      "Epoch 7 Batch 13 loss is: 0.0954211084034921\n",
      "Epoch 7 Batch 14 loss is: 0.2521612407431572\n",
      "Epoch 7 Batch 15 loss is: 0.3302397791546572\n",
      "Epoch 7 Batch 16 loss is: 0.2112716523566012\n",
      "Epoch 7 Batch 17 loss is: 0.04854896630202918\n",
      "Epoch 7 Batch 18 loss is: 0.21093448652052307\n",
      "Epoch 7 Batch 19 loss is: 0.0046547048620763105\n",
      "Epoch 7 Batch 20 loss is: 0.6918287163336307\n",
      "Epoch 7 Batch 21 loss is: 0.07409870526212647\n",
      "Epoch 7 Batch 22 loss is: 0.2210789796563599\n",
      "Epoch 7 Batch 23 loss is: 0.1010455970238348\n",
      "Epoch 7 Batch 24 loss is: 0.0502003531826505\n",
      "Epoch 7 Batch 25 loss is: 0.03679739508652342\n",
      "Epoch 7 Batch 26 loss is: 0.03626120587081592\n",
      "Epoch 7 Batch 27 loss is: 0.4421169374448231\n"
     ]
    },
    {
     "name": "stderr",
     "output_type": "stream",
     "text": [
      "\n",
      "\n",
      " 80%|████████  | 8/10 [17:02<04:18, 129.05s/it]\u001b[A\u001b[A"
     ]
    },
    {
     "name": "stdout",
     "output_type": "stream",
     "text": [
      "epoch 7 :loss is tensor(2.6539, device='cuda:0', dtype=torch.float64)\n",
      "Epoch 8 Batch 0 loss is: 0.44280272284415795\n",
      "Epoch 8 Batch 1 loss is: 0.1283137317818874\n",
      "Epoch 8 Batch 2 loss is: 0.014739603457260652\n",
      "Epoch 8 Batch 3 loss is: 0.16839917793490605\n",
      "Epoch 8 Batch 4 loss is: 0.3146870752416705\n",
      "Epoch 8 Batch 5 loss is: 0.4718072022517791\n",
      "Epoch 8 Batch 6 loss is: 0.6113836090272755\n",
      "Epoch 8 Batch 7 loss is: 0.3340120704478748\n",
      "Epoch 8 Batch 8 loss is: 0.13696260191513868\n",
      "Epoch 8 Batch 9 loss is: 0.3454075758702537\n",
      "Epoch 8 Batch 10 loss is: 0.3583279865114128\n",
      "Epoch 8 Batch 11 loss is: 0.12677621901987768\n",
      "Epoch 8 Batch 12 loss is: 0.13342788458104304\n",
      "Epoch 8 Batch 13 loss is: 0.07489297123996357\n",
      "Epoch 8 Batch 14 loss is: 0.13942296826643313\n",
      "Epoch 8 Batch 15 loss is: 0.2901094248024102\n",
      "Epoch 8 Batch 16 loss is: 0.3203857419219877\n",
      "Epoch 8 Batch 17 loss is: 0.037877953964014895\n",
      "Epoch 8 Batch 18 loss is: 0.20281378508388218\n",
      "Epoch 8 Batch 19 loss is: 0.002378845446901856\n",
      "Epoch 8 Batch 20 loss is: 0.47083482103609686\n",
      "Epoch 8 Batch 21 loss is: 0.03616203522495157\n",
      "Epoch 8 Batch 22 loss is: 0.2188248482117074\n",
      "Epoch 8 Batch 23 loss is: 0.25498751930322544\n",
      "Epoch 8 Batch 24 loss is: 0.046744282043458915\n",
      "Epoch 8 Batch 25 loss is: 0.011078669886713115\n",
      "Epoch 8 Batch 26 loss is: 0.07852640971842366\n",
      "Epoch 8 Batch 27 loss is: 0.40737310678911964\n"
     ]
    },
    {
     "name": "stderr",
     "output_type": "stream",
     "text": [
      "\n",
      "\n",
      " 90%|█████████ | 9/10 [19:12<02:09, 129.19s/it]\u001b[A\u001b[A"
     ]
    },
    {
     "name": "stdout",
     "output_type": "stream",
     "text": [
      "epoch 8 :loss is tensor(1.6654, device='cuda:0', dtype=torch.float64)\n",
      "Epoch 9 Batch 0 loss is: 0.44404972269640214\n",
      "Epoch 9 Batch 1 loss is: 0.11589626355971677\n",
      "Epoch 9 Batch 2 loss is: 0.01737403428753467\n",
      "Epoch 9 Batch 3 loss is: 0.19902589161947262\n",
      "Epoch 9 Batch 4 loss is: 0.40446026562069154\n",
      "Epoch 9 Batch 5 loss is: 0.3750845336753389\n",
      "Epoch 9 Batch 6 loss is: 0.6077860777999107\n",
      "Epoch 9 Batch 7 loss is: 0.3264433444016172\n",
      "Epoch 9 Batch 8 loss is: 0.2984584232334802\n",
      "Epoch 9 Batch 9 loss is: 0.40591456135524623\n",
      "Epoch 9 Batch 10 loss is: 0.1490617262277477\n",
      "Epoch 9 Batch 11 loss is: 0.05300306505668972\n",
      "Epoch 9 Batch 12 loss is: 0.05336798898915575\n",
      "Epoch 9 Batch 13 loss is: 0.05938750102382489\n",
      "Epoch 9 Batch 14 loss is: 0.2750210815207407\n",
      "Epoch 9 Batch 15 loss is: 0.20848316518875395\n",
      "Epoch 9 Batch 16 loss is: 0.20359396818256983\n",
      "Epoch 9 Batch 17 loss is: 0.0599736383412549\n",
      "Epoch 9 Batch 18 loss is: 0.2176888137883861\n",
      "Epoch 9 Batch 19 loss is: 0.004052833888825305\n",
      "Epoch 9 Batch 20 loss is: 0.6155556729121905\n",
      "Epoch 9 Batch 21 loss is: 0.025187156979155\n",
      "Epoch 9 Batch 22 loss is: 0.13075943420810274\n",
      "Epoch 9 Batch 23 loss is: 0.06964610934290968\n",
      "Epoch 9 Batch 24 loss is: 0.0391305355866002\n",
      "Epoch 9 Batch 25 loss is: 0.027973085193577135\n",
      "Epoch 9 Batch 26 loss is: 0.10489668699175604\n"
     ]
    },
    {
     "name": "stderr",
     "output_type": "stream",
     "text": [
      "\n",
      "\n",
      "100%|██████████| 10/10 [21:19<00:00, 128.68s/it]"
     ]
    },
    {
     "name": "stdout",
     "output_type": "stream",
     "text": [
      "Epoch 9 Batch 27 loss is: 0.4122991497747386\n",
      "epoch 9 :loss is tensor(1.5846, device='cuda:0', dtype=torch.float64)\n"
     ]
    },
    {
     "name": "stderr",
     "output_type": "stream",
     "text": [
      "\u001b[A\u001b[A\n",
      "\n",
      "\u001b[A\u001b[A"
     ]
    },
    {
     "name": "stdout",
     "output_type": "stream",
     "text": [
      "training finished\n"
     ]
    }
   ],
   "source": [
    "training_loss = []\n",
    "validation_loss = []\n",
    "for epoch in tqdm(range(num_epochs)):\n",
    "    running_loss_tmp = 0.0\n",
    "    test_loss_tmp = 0.0\n",
    "    for i, sample in enumerate(dataloader_train):\n",
    "    #for (i,(sample,test_sample)) in enumerate( zip(dataloader_train,dataloader_test) ):\n",
    "        #Data\n",
    "        images = sample['data'].to(device).requires_grad_()\n",
    "        images = torch.unsqueeze(images,1)\n",
    "        labels = sample['label'].to(device)\n",
    "        _, labels = torch.max(labels,1) #converts from one hot to integer\n",
    "        \n",
    "        #Forward Pass\n",
    "        outputs = net(images)\n",
    "        \n",
    "        #Backward Pass\n",
    "        optimizer.zero_grad()\n",
    "        loss = criterion(outputs, labels)\n",
    "        loss.backward()\n",
    "        optimizer.step()\n",
    "        running_loss_tmp += loss.data\n",
    "        print(\"Epoch {} Batch {} loss is: {}\".format(epoch, i, loss.data))\n",
    "        \n",
    "    epoch_training_loss = running_loss_tmp.item()/(i+1) #i + 1 since index starts from 0\n",
    "    \n",
    "    #Will try validation on testing set for now, dont do this BAD\n",
    "#     for j, test_sample in enumerate(dataloader_test):\n",
    "        \n",
    "#         #Testing loss\n",
    "#         images = test_sample['data'].to(device)\n",
    "#         images = torch.unsqueeze(images,1)\n",
    "#         labels = test_sample['label'].to(device)\n",
    "#         _, labels = torch.max(labels,1)\n",
    "        \n",
    "#         #Forward Pass\n",
    "#         outputs = net(images)\n",
    "#         loss = criterion(outputs, labels)\n",
    "#         test_loss_tmp += loss.data\n",
    "        \n",
    "#    epoch_validation_loss = test_loss_tmp.item()/(j+1)\n",
    "        \n",
    "    print('epoch', epoch, ':loss is', running_loss_tmp)\n",
    "    training_loss.append(epoch_training_loss)\n",
    "#    validation_loss.append(epoch_validation_loss)\n",
    "    if (epoch > 3) and (abs(training_loss[epoch] - training_loss[epoch-1]) <= 0.0001) and (abs(training_loss[epoch - 1] - training_loss[epoch - 2]) <= 0.0001):\n",
    "        break\n",
    "print('training finished')"
   ]
  },
  {
   "cell_type": "markdown",
   "metadata": {},
   "source": [
    "### Save model parameters and losses then plot"
   ]
  },
  {
   "cell_type": "code",
   "execution_count": null,
   "metadata": {},
   "outputs": [],
   "source": [
    "torch.save(net.state_dict(), 'final_weights_round2.pt')"
   ]
  },
  {
   "cell_type": "code",
   "execution_count": null,
   "metadata": {},
   "outputs": [],
   "source": [
    "import pickle\n",
    "loss_list = [running_loss,testing_loss]\n",
    "with open('losses.pkl', 'wb') as f:\n",
    "    pickle.dump(loss_list, f)"
   ]
  },
  {
   "cell_type": "code",
   "execution_count": 39,
   "metadata": {},
   "outputs": [
    {
     "data": {
      "image/png": "[encoded data removed]",
      "text/plain": [
       "<Figure size 576x432 with 1 Axes>"
      ]
     },
     "metadata": {
      "needs_background": "light"
     },
     "output_type": "display_data"
    }
   ],
   "source": [
    "plt.ioff()\n",
    "fig = plt.figure()\n",
    "plt.plot(running_loss, label=\"Train\")\n",
    "plt.plot(testing_loss, label=\"Test\")\n",
    "plt.title(\"Training vs Testing Loss\")\n",
    "plt.xlabel('Epochs')\n",
    "plt.ylabel('Loss (Cross Entropy)')\n",
    "plt.legend()\n",
    "fig.set_size_inches(8, 6)\n",
    "fig.savefig(\"Loss.png\")"
   ]
  },
  {
   "cell_type": "markdown",
   "metadata": {},
   "source": [
    "## Testing network"
   ]
  },
  {
   "cell_type": "code",
   "execution_count": 16,
   "metadata": {},
   "outputs": [],
   "source": [
    "#Test set\n",
    "labels_path = '../DATA/test_labels.pkl'\n",
    "data_path = 'test.dat'\n",
    "data_dims = (2085,10404)\n",
    "genes_path = 'test.csv'\n",
    "\n",
    "test = TumorDataset(labels_path,data_path,data_dims,genes_path,transform = transforms.Compose([ToImage(),ToTensor()]))"
   ]
  },
  {
   "cell_type": "code",
   "execution_count": 17,
   "metadata": {},
   "outputs": [],
   "source": [
    "#Test data loader\n",
    "#dataloader_test = DataLoader(test, batch_size=batch_size, shuffle=True, num_workers=4)\n",
    "dataloader_test = DataLoader(test, batch_size=batch_size, num_workers=4)"
   ]
  },
  {
   "cell_type": "code",
   "execution_count": 13,
   "metadata": {},
   "outputs": [],
   "source": [
    "load_final_weights = True\n",
    "\n",
    "net = Net(num_of_classes=33)\n",
    "\n",
    "if load_final_weights:\n",
    "    net.load_state_dict(torch.load('network_weights/final_weights_batch75.pt'))"
   ]
  },
  {
   "cell_type": "code",
   "execution_count": 14,
   "metadata": {},
   "outputs": [
    {
     "data": {
      "text/plain": [
       "False"
      ]
     },
     "execution_count": 14,
     "metadata": {},
     "output_type": "execute_result"
    }
   ],
   "source": [
    "net.to(device)\n",
    "net.double()\n",
    "net.eval()\n",
    "net.training"
   ]
  },
  {
   "cell_type": "code",
   "execution_count": 15,
   "metadata": {},
   "outputs": [],
   "source": [
    "true_labels = np.array([])\n",
    "labels_predicted = np.array([])\n",
    "\n",
    "for ii, test_sample in enumerate(dataloader_test):\n",
    "    #Data\n",
    "    images = test_sample['data'].to(device)\n",
    "    images = torch.unsqueeze(images,1)\n",
    "    labels = test_sample['label'].to(device)\n",
    "    _, labels = torch.max(labels,1)\n",
    "    \n",
    "    #Forward pass\n",
    "    outputs = net(images)\n",
    "    \n",
    "    #Label classified\n",
    "    _, predicted = torch.max(outputs.data, 1)\n",
    "    \n",
    "    true_labels = np.append(true_labels, labels.cpu().numpy().astype('int8'))\n",
    "    labels_predicted = np.append(labels_predicted, predicted.cpu().numpy().astype('int8'))"
   ]
  },
  {
   "cell_type": "code",
   "execution_count": 16,
   "metadata": {},
   "outputs": [
    {
     "name": "stdout",
     "output_type": "stream",
     "text": [
      "0.9520383693045563\n"
     ]
    }
   ],
   "source": [
    "accuracy = np.sum(true_labels==labels_predicted)\n",
    "print(accuracy/len(true_labels))"
   ]
  },
  {
   "cell_type": "code",
   "execution_count": null,
   "metadata": {},
   "outputs": [],
   "source": []
  },
  {
   "cell_type": "code",
   "execution_count": 16,
   "metadata": {},
   "outputs": [],
   "source": [
    "# for i, sample in enumerate(dataloader_train):\n",
    "#     #Data\n",
    "#     images = sample['data'].to(device)\n",
    "#     images = torch.unsqueeze(images,1)\n",
    "#     labels = sample['label']\n",
    "\n",
    "# images[0:150].shape\n",
    "# net(images[0:150])"
   ]
  }
 ],
 "metadata": {
  "kernelspec": {
   "display_name": "Python 3",
   "language": "python",
   "name": "python3"
  },
  "language_info": {
   "codemirror_mode": {
    "name": "ipython",
    "version": 3
   },
   "file_extension": ".py",
   "mimetype": "text/x-python",
   "name": "python",
   "nbconvert_exporter": "python",
   "pygments_lexer": "ipython3",
   "version": "3.7.1"
  }
 },
 "nbformat": 4,
 "nbformat_minor": 2
}
