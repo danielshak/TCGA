{
 "cells": [
  {
   "cell_type": "code",
   "execution_count": 1,
   "metadata": {},
   "outputs": [],
   "source": [
    "import pandas as pd\n",
    "import numpy as np\n",
    "import time\n",
    "import h5py\n",
    "from sklearn.feature_selection import VarianceThreshold"
   ]
  },
  {
   "cell_type": "code",
   "execution_count": 2,
   "metadata": {},
   "outputs": [],
   "source": [
    "#Load full raw data\n",
    "full_d = pd.read_pickle('../DATA/tumor_data.pkl')\n",
    "\n",
    "#If we are going to do the sorting, here might be a good place to do it\n",
    "\n",
    "\n",
    "#All genes to csv\n",
    "pd.DataFrame(full_d.index.values).to_csv(\"genes.csv\", index=False, header=False)\n",
    "\n",
    "#Log2 transform and variance thresholding\n",
    "var = np.var(np.log2(full_d+1), axis=1)\n",
    "ind2drop = var.sort_values().index[0:-10404] #sorts from smalles to biggest, hence keep the last 10404 values which are the 10404 biggest variacnes\n",
    "\n",
    "#Clear RAM space\n",
    "del (full_d, var)"
   ]
  },
  {
   "cell_type": "code",
   "execution_count": 3,
   "metadata": {},
   "outputs": [],
   "source": [
    "#Threshold train/test data and drop low variance values\n",
    "train_d = pd.read_pickle('../DATA/train_data.pkl')\n",
    "train_l = pd.read_pickle('../DATA/train_labels.pkl')\n",
    "\n",
    "#Thresholding\n",
    "train_d = np.log2(train_d.drop(ind2drop)+1)\n",
    "train_genes = train_d.index\n",
    "\n",
    "#Data normalization\n",
    "stds = np.std(train_d, axis=1)\n",
    "means = np.mean(train_d, axis=1)\n",
    "\n",
    "# (x - x.mean)/x.std\n",
    "train_d = (train_d.sub(means, axis=0)).div(stds, axis=0)"
   ]
  },
  {
   "cell_type": "code",
   "execution_count": 7,
   "metadata": {},
   "outputs": [],
   "source": [
    "fp = np.memmap('train.dat', dtype='float64', mode='w+', shape=train_d.T.shape)\n",
    "fp[:] = train_d.values[:].T\n",
    "del fp"
   ]
  },
  {
   "cell_type": "code",
   "execution_count": 8,
   "metadata": {},
   "outputs": [
    {
     "name": "stdout",
     "output_type": "stream",
     "text": [
      "228.34806323051453\n"
     ]
    }
   ],
   "source": [
    "#Save each sample as a row, to be read off later by an iterator\n",
    "t_start = time.time()\n",
    "(train_d.T).to_csv('train.csv') #can be slow! ~205 seconds\n",
    "print(time.time()-t_start)\n",
    "\n",
    "del train_d\n",
    "\n",
    "#test = pd.read_csv('train.csv', index_col = 0)"
   ]
  },
  {
   "cell_type": "code",
   "execution_count": 8,
   "metadata": {},
   "outputs": [],
   "source": [
    "#Same for testset\n",
    "test_d = pd.read_pickle('../DATA/test_data.pkl')\n",
    "test_l = pd.read_pickle('../DATA/test_labels.pkl')\n",
    "\n",
    "#Thresholding\n",
    "test_d = np.log2(test_d.drop(ind2drop)+1)\n",
    "test_genes = test_d.index\n",
    "\n",
    "#Data normalization - using same mean and std from train set\n",
    "# (x - x.mean)/x.std\n",
    "test_d = (test_d.sub(means, axis=0)).div(stds, axis=0)"
   ]
  },
  {
   "cell_type": "code",
   "execution_count": 9,
   "metadata": {},
   "outputs": [],
   "source": [
    "fp = np.memmap('test.dat', dtype='float64', mode='w+', shape=test_d.T.shape)\n",
    "fp[:] = test_d.values[:].T\n",
    "del fp"
   ]
  },
  {
   "cell_type": "code",
   "execution_count": 12,
   "metadata": {},
   "outputs": [
    {
     "name": "stdout",
     "output_type": "stream",
     "text": [
      "57.473193883895874\n"
     ]
    }
   ],
   "source": [
    "t_start = time.time()\n",
    "(test_d.T).to_csv('test.csv') #can be slow!\n",
    "print(time.time()-t_start)\n",
    "\n",
    "del test_d\n",
    "\n",
    "if any(~np.array(train_genes==test_genes)):\n",
    "    print(\"Genes do not match\")\n",
    "    \n",
    "#test = pd.read_csv('test.csv', index_col = 0)"
   ]
  },
  {
   "cell_type": "code",
   "execution_count": null,
   "metadata": {},
   "outputs": [],
   "source": []
  }
 ],
 "metadata": {
  "kernelspec": {
   "display_name": "Python 3",
   "language": "python",
   "name": "python3"
  },
  "language_info": {
   "codemirror_mode": {
    "name": "ipython",
    "version": 3
   },
   "file_extension": ".py",
   "mimetype": "text/x-python",
   "name": "python",
   "nbconvert_exporter": "python",
   "pygments_lexer": "ipython3",
   "version": "3.7.1"
  }
 },
 "nbformat": 4,
 "nbformat_minor": 2
}
